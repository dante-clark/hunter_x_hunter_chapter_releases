{
 "cells": [
  {
   "cell_type": "markdown",
   "metadata": {},
   "source": [
    "#### Selenium setup"
   ]
  },
  {
   "cell_type": "markdown",
   "metadata": {},
   "source": [
    "#### Pandas setup"
   ]
  },
  {
   "cell_type": "code",
   "execution_count": 143,
   "metadata": {},
   "outputs": [],
   "source": [
    "import pandas as pd\n",
    "\n",
    "pd.set_option('display.max_rows', None)\n",
    "pd.set_option('display.max_columns', None)\n",
    "pd.set_option('display.width', 1000)\n",
    "pd.set_option('display.colheader_justify', 'center')\n",
    "pd.set_option('display.precision', 3)"
   ]
  },
  {
   "cell_type": "markdown",
   "metadata": {},
   "source": [
    "#### Data appended to arrays"
   ]
  },
  {
   "cell_type": "code",
   "execution_count": null,
   "metadata": {},
   "outputs": [],
   "source": [
    "from bs4 import BeautifulSoup\n",
    "\n",
    "titles = []\n",
    "dates = []\n",
    "volumes = []\n",
    "\n",
    "\n",
    "with open('./page.html', 'r', encoding='utf-8') as file: \n",
    "    soup = BeautifulSoup(file, 'html.parser')\n",
    "    \n",
    "    td = soup.find_all('td', attrs={\"colspan\": 2})\n",
    "\n",
    "    lists = []\n",
    "\n",
    "    chapters = []\n",
    "\n",
    "    for n in range(0, len(td)):\n",
    "        lists.append(td[n])\n",
    "\n",
    "\n",
    "    for n in range(0, len(lists)):\n",
    "       chapters.append(lists[n].find_all('li'))\n",
    "\n",
    "time.sleep(2)\n",
    "\n",
    "index = 0\n",
    "count = 0\n",
    "\n",
    "is_true = True\n",
    "\n",
    "for title in driver.find_elements(By.XPATH, \"//td/a\"):\n",
    "    count = 0\n",
    "    while is_true:\n",
    "        titles.append(title.text)\n",
    "        \n",
    "\n",
    "        if count == len(chapters[index]) - 1:\n",
    "            index += 1\n",
    "            break\n",
    "        else:\n",
    "            count += 1\n",
    "\n",
    "index = 0\n",
    "\n",
    "for date in driver.find_elements(By.XPATH, \"//tr//td[3]\")[::2]:\n",
    "    count = 0\n",
    "    while is_true:\n",
    "        dates.append(date.text)\n",
    "        \n",
    "\n",
    "        if count == len(chapters[index]) - 1:\n",
    "            index += 1\n",
    "            break\n",
    "        else:\n",
    "            count += 1\n",
    "for volume in driver.find_elements(By.XPATH, \"//tr//td[@colspan=2]//ul//li/a[@title]\"):\n",
    "    volumes.append(volume.text)\n",
    "\n",
    "    print(volume.text)\n"
   ]
  },
  {
   "cell_type": "markdown",
   "metadata": {},
   "source": [
    "#### Render dataframe"
   ]
  },
  {
   "cell_type": "code",
   "execution_count": null,
   "metadata": {},
   "outputs": [],
   "source": [
    "data = {\n",
    "    \"title\": titles,\n",
    "    \"japanese release\": dates,\n",
    "    \"chapters\": volumes\n",
    "}\n",
    "\n",
    "df = pd.DataFrame(data=data)\n",
    "\n",
    "display(df)"
   ]
  },
  {
   "cell_type": "markdown",
   "metadata": {},
   "source": [
    "#### CSV"
   ]
  },
  {
   "cell_type": "code",
   "execution_count": 146,
   "metadata": {},
   "outputs": [],
   "source": [
    "df.to_csv(r\"C:\\Users\\Dante Clark\\Desktop\\hxh_project\\csv_files\\raw_data.csv\", encoding='utf-8', index=False)"
   ]
  }
 ],
 "metadata": {
  "kernelspec": {
   "display_name": "Python 3.10.5 64-bit",
   "language": "python",
   "name": "python3"
  },
  "language_info": {
   "codemirror_mode": {
    "name": "ipython",
    "version": 3
   },
   "file_extension": ".py",
   "mimetype": "text/x-python",
   "name": "python",
   "nbconvert_exporter": "python",
   "pygments_lexer": "ipython3",
   "version": "3.10.5"
  },
  "orig_nbformat": 4,
  "vscode": {
   "interpreter": {
    "hash": "a8f4e2e1c037969bfee3c27a5ebecc6d9593fa35cf12bd216cbfff08086fd545"
   }
  }
 },
 "nbformat": 4,
 "nbformat_minor": 2
}
